{
  "nbformat": 4,
  "nbformat_minor": 0,
  "metadata": {
    "colab": {
      "provenance": []
    },
    "kernelspec": {
      "name": "python3",
      "display_name": "Python 3"
    },
    "language_info": {
      "name": "python"
    }
  },
  "cells": [
    {
      "cell_type": "markdown",
      "source": [
        "#Imports"
      ],
      "metadata": {
        "id": "ELRxRF0DpzMR"
      }
    },
    {
      "cell_type": "code",
      "execution_count": 92,
      "metadata": {
        "id": "W6f2CVLNnTMx"
      },
      "outputs": [],
      "source": [
        "import numpy as np\n",
        "import pandas as pd\n",
        "from geopy.geocoders import Nominatim\n",
        "import matplotlib.pyplot as plt\n",
        "import math"
      ]
    },
    {
      "cell_type": "code",
      "source": [
        "data = pd.read_csv('/content/Churn_Modelling.csv')"
      ],
      "metadata": {
        "id": "-_AzWACjnbwl"
      },
      "execution_count": 93,
      "outputs": []
    },
    {
      "cell_type": "markdown",
      "source": [
        "#Classes"
      ],
      "metadata": {
        "id": "3DEDnxo997Xb"
      }
    },
    {
      "cell_type": "markdown",
      "source": [
        "##PreprocessingEvaluator"
      ],
      "metadata": {
        "id": "jazpmGcHp5gC"
      }
    },
    {
      "cell_type": "code",
      "source": [
        "import numpy as np\n",
        "\n",
        "class PreprocessingEvaluator:\n",
        "    \n",
        "    def __init__(self, data):\n",
        "        self.data = data\n",
        "        \n",
        "    def check_for_nan(self):\n",
        "        has_nan = self.data.isna().any().any()\n",
        "        if has_nan:\n",
        "            print(\"Dataset contains NaN values\")\n",
        "        else:\n",
        "            print(\"Dataset does not contain NaN values\")\n",
        "            \n",
        "    def check_for_infinity(self):\n",
        "        has_inf = self.data.replace([np.inf, -np.inf], np.nan).isna().any().any()\n",
        "        if has_inf:\n",
        "            print(\"Dataset contains infinite values\")\n",
        "        else:\n",
        "            print(\"Dataset does not contain infinite values\")\n",
        "\n",
        "    def check_for_outliers(self, threshold):\n",
        "        numeric_cols = self.data.select_dtypes(include=[np.number]).columns\n",
        "        for col in numeric_cols:\n",
        "            has_outliers = (np.abs(self.data[col]) > threshold).any()\n",
        "            if has_outliers:\n",
        "                print(f\"{col} column contains outliers above the threshold of {threshold}.\")\n",
        "\n",
        "    def check_for_skewness(self):\n",
        "        skewness = self.data.skew()\n",
        "        if (skewness > 0.5).any():\n",
        "            skewed_cols = skewness[skewness > 0.5].index.tolist()\n",
        "            print(\"The following columns are right-skewed:\", skewed_cols)\n",
        "        elif (skewness < -0.5).any():\n",
        "            skewed_cols = skewness[skewness < -0.5].index.tolist()\n",
        "            print(\"The following columns are left-skewed:\", skewed_cols)\n",
        "        else:\n",
        "            print(\"No skewness found in dataset.\")"
      ],
      "metadata": {
        "id": "nvxzDzGdpvNn"
      },
      "execution_count": 114,
      "outputs": []
    },
    {
      "cell_type": "markdown",
      "source": [
        "#Implementation"
      ],
      "metadata": {
        "id": "WdP8S_rrqCKi"
      }
    },
    {
      "cell_type": "markdown",
      "source": [
        "##Instantiate objects"
      ],
      "metadata": {
        "id": "SRFRid4kDzDl"
      }
    },
    {
      "cell_type": "code",
      "source": [
        "# Initialize PreprocessingEvaluator with the dataset\n",
        "evaluator = PreprocessingEvaluator(data)"
      ],
      "metadata": {
        "id": "gmhZjkhXqJbo"
      },
      "execution_count": 134,
      "outputs": []
    },
    {
      "cell_type": "markdown",
      "source": [
        "##Evaluate Preprocessing"
      ],
      "metadata": {
        "id": "uQpM5wT7qOk9"
      }
    },
    {
      "cell_type": "code",
      "source": [
        "# check for NaN values\n",
        "evaluator.check_for_nan()"
      ],
      "metadata": {
        "colab": {
          "base_uri": "https://localhost:8080/"
        },
        "id": "XCvizKvNu8LK",
        "outputId": "9d6df78f-993a-41c9-88bd-acb8c76f1acc"
      },
      "execution_count": 135,
      "outputs": [
        {
          "output_type": "stream",
          "name": "stdout",
          "text": [
            "Dataset does not contain NaN values\n"
          ]
        }
      ]
    },
    {
      "cell_type": "code",
      "source": [
        "# check for infinite values\n",
        "evaluator.check_for_infinity()"
      ],
      "metadata": {
        "colab": {
          "base_uri": "https://localhost:8080/"
        },
        "id": "GHLO3L40t7Bt",
        "outputId": "69c3a61e-7e1b-481f-eece-4ab6695ac388"
      },
      "execution_count": 136,
      "outputs": [
        {
          "output_type": "stream",
          "name": "stdout",
          "text": [
            "Dataset does not contain infinite values\n"
          ]
        }
      ]
    },
    {
      "cell_type": "code",
      "source": [
        "data.dtypes"
      ],
      "metadata": {
        "colab": {
          "base_uri": "https://localhost:8080/"
        },
        "id": "wg9yqjfz0MC0",
        "outputId": "0a64977f-1600-4bdd-c8d1-84f653bc89a9"
      },
      "execution_count": 137,
      "outputs": [
        {
          "output_type": "execute_result",
          "data": {
            "text/plain": [
              "RowNumber            int64\n",
              "CustomerId           int64\n",
              "Surname             object\n",
              "CreditScore          int64\n",
              "Geography           object\n",
              "Gender              object\n",
              "Age                  int64\n",
              "Tenure               int64\n",
              "Balance            float64\n",
              "NumOfProducts        int64\n",
              "HasCrCard            int64\n",
              "IsActiveMember       int64\n",
              "EstimatedSalary    float64\n",
              "Exited               int64\n",
              "dtype: object"
            ]
          },
          "metadata": {},
          "execution_count": 137
        }
      ]
    },
    {
      "cell_type": "code",
      "source": [
        "evaluator.check_for_outliers(threshold=6)"
      ],
      "metadata": {
        "colab": {
          "base_uri": "https://localhost:8080/"
        },
        "id": "8bBYWHLF7fGm",
        "outputId": "c91a7c15-f80b-4317-cab0-2c41aa7a1be6"
      },
      "execution_count": 138,
      "outputs": [
        {
          "output_type": "stream",
          "name": "stdout",
          "text": [
            "RowNumber column contains outliers above the threshold of 6.\n",
            "CustomerId column contains outliers above the threshold of 6.\n",
            "CreditScore column contains outliers above the threshold of 6.\n",
            "Age column contains outliers above the threshold of 6.\n",
            "Tenure column contains outliers above the threshold of 6.\n",
            "Balance column contains outliers above the threshold of 6.\n",
            "EstimatedSalary column contains outliers above the threshold of 6.\n"
          ]
        }
      ]
    },
    {
      "cell_type": "code",
      "source": [
        "evaluator.check_for_skewness()"
      ],
      "metadata": {
        "colab": {
          "base_uri": "https://localhost:8080/"
        },
        "id": "thxNut-i_Ggq",
        "outputId": "88bad2c4-0277-4975-e7a8-633054755b46"
      },
      "execution_count": 139,
      "outputs": [
        {
          "output_type": "stream",
          "name": "stdout",
          "text": [
            "The following columns are right-skewed: ['Age', 'NumOfProducts', 'Exited']\n"
          ]
        },
        {
          "output_type": "stream",
          "name": "stderr",
          "text": [
            "<ipython-input-114-515654a30ba0>:30: FutureWarning: Dropping of nuisance columns in DataFrame reductions (with 'numeric_only=None') is deprecated; in a future version this will raise TypeError.  Select only valid columns before calling the reduction.\n",
            "  skewness = self.data.skew()\n"
          ]
        }
      ]
    }
  ]
}