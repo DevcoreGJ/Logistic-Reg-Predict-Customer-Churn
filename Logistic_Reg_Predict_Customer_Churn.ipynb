{
  "nbformat": 4,
  "nbformat_minor": 0,
  "metadata": {
    "colab": {
      "provenance": []
    },
    "kernelspec": {
      "name": "python3",
      "display_name": "Python 3"
    },
    "language_info": {
      "name": "python"
    }
  },
  "cells": [
    {
      "cell_type": "code",
      "execution_count": 86,
      "metadata": {
        "id": "q-LlhMzlc1dW"
      },
      "outputs": [],
      "source": [
        "import pandas as pd\n",
        "import numpy as np\n",
        "import matplotlib.pyplot as plt\n"
      ]
    },
    {
      "cell_type": "code",
      "source": [
        "import numpy as np\n",
        "\n",
        "class OneHotEncoder:\n",
        "    def __init__(self, categories='auto'):\n",
        "        self.categories = categories\n",
        "        self.unique_categories = None\n",
        "        self.category_indices = None\n",
        "        self.n_values_ = None\n",
        "    \n",
        "    def fit(self, X):\n",
        "        # Determine unique categories\n",
        "        if self.categories == 'auto':\n",
        "            self.unique_categories = [np.unique(X[:, i]) for i in range(X.shape[1])]\n",
        "        else:\n",
        "            self.unique_categories = self.categories\n",
        "        \n",
        "        # Determine indices of each category\n",
        "        self.category_indices = [np.arange(len(c)) for c in self.unique_categories]\n",
        "        \n",
        "        # Determine number of values in each feature\n",
        "        self.n_values_ = [len(c) for c in self.unique_categories]\n",
        "        \n",
        "    def transform(self, X):\n",
        "        # Check if the encoder is already fitted\n",
        "        if self.unique_categories is None:\n",
        "            raise ValueError(\"OneHotEncoder has not been fitted.\")\n",
        "        \n",
        "        # Initialize empty one-hot encoded array\n",
        "        n_samples = X.shape[0]\n",
        "        n_features = sum(self.n_values_)\n",
        "        X_onehot = np.zeros((n_samples, n_features))\n",
        "        \n",
        "        # Iterate over features and encode them one-by-one\n",
        "        feature_index = 0\n",
        "        for i in range(X.shape[1]):\n",
        "            category_index = self.category_indices[i]\n",
        "            values = X[:, i]\n",
        "            indices = np.searchsorted(category_index, values)\n",
        "            onehot = np.zeros((n_samples, len(category_index)))\n",
        "            onehot[np.arange(n_samples), indices] = 1\n",
        "            X_onehot[:, feature_index:feature_index+len(category_index)] = onehot\n",
        "            feature_index += len(category_index)\n",
        "            \n",
        "        return X_onehot\n",
        "    \n",
        "    def fit_transform(self, X):\n",
        "        self.fit(X)\n",
        "        return self.transform(X)\n"
      ],
      "metadata": {
        "id": "nDQj5h2t9Mty"
      },
      "execution_count": 87,
      "outputs": []
    },
    {
      "cell_type": "code",
      "source": [
        "import numpy as np\n",
        "\n",
        "class StandardScaler:\n",
        "    def __init__(self):\n",
        "        self.mean = None\n",
        "        self.std = None\n",
        "\n",
        "    def fit(self, X):\n",
        "        self.mean = np.nanmean(X, axis=0)\n",
        "        self.std = np.nanstd(X, axis=0)\n",
        "\n",
        "    def transform(self, X):\n",
        "        X = np.where(np.isnan(X), self.mean, X) # Replace NaN with mean\n",
        "        X_scaled = (X - self.mean) // self.std\n",
        "        X_scaled = np.where(np.isnan(X_scaled), 0, X_scaled) # Replace NaN with 0\n",
        "        return X_scaled\n",
        "\n",
        "    def fit_transform(self, X):\n",
        "        self.fit(X)\n",
        "        return self.transform(X)\n"
      ],
      "metadata": {
        "id": "6T7u7dnI6wdO"
      },
      "execution_count": 88,
      "outputs": []
    },
    {
      "cell_type": "code",
      "source": [
        "class LabelEncoder:\n",
        "    def __init__(self):\n",
        "        self.labels = {}\n",
        "\n",
        "    def fit_transform(self, x):\n",
        "        \"\"\"\n",
        "        Fit label encoder and return encoded labels\n",
        "        \"\"\"\n",
        "        labels = []\n",
        "        for item in x:\n",
        "            if item not in self.labels:\n",
        "                self.labels[item] = len(self.labels)\n",
        "            labels.append(self.labels[item])\n",
        "        return np.array(labels)\n",
        "\n",
        "    def transform(self, x):\n",
        "        \"\"\"\n",
        "        Transform labels to normalized encoding\n",
        "        \"\"\"\n",
        "        labels = []\n",
        "        for item in x:\n",
        "            if item not in self.labels:\n",
        "                raise ValueError(\"Unknown label: %s\" % item)\n",
        "            labels.append(self.labels[item])\n",
        "        return np.array(labels)\n"
      ],
      "metadata": {
        "id": "2tgMYale6Vhl"
      },
      "execution_count": 89,
      "outputs": []
    },
    {
      "cell_type": "code",
      "source": [
        "import numpy as np\n",
        "\n",
        "class train_test_split:\n",
        "    def __init__(self, test_size=0.2, random_state=None):\n",
        "        self.test_size = test_size\n",
        "        self.random_state = random_state\n",
        "    \n",
        "    def __call__(self, X, y):\n",
        "        # Set random seed if specified\n",
        "        if self.random_state is not None:\n",
        "            np.random.seed(self.random_state)\n",
        "        \n",
        "        # Get number of samples in dataset\n",
        "        m = X.shape[0]\n",
        "        \n",
        "        # Shuffle indices\n",
        "        shuffled_indices = np.random.permutation(m)\n",
        "        \n",
        "        # Split dataset into train and test sets\n",
        "        test_size = int(m * self.test_size)\n",
        "        test_indices = shuffled_indices[:test_size]\n",
        "        train_indices = shuffled_indices[test_size:]\n",
        "        \n",
        "        X_train = X[train_indices]\n",
        "        X_test = X[test_indices]\n",
        "        y_train = y[train_indices]\n",
        "        y_test = y[test_indices]\n",
        "        \n",
        "        return X_train, X_test, y_train, y_test\n"
      ],
      "metadata": {
        "id": "aNzUOeiA419h"
      },
      "execution_count": 90,
      "outputs": []
    },
    {
      "cell_type": "code",
      "source": [
        "import numpy as np\n",
        "import pandas as pd\n",
        "\n",
        "class ColumnTransformer:\n",
        "    def init(self):\n",
        "        self.label_encoders = []\n",
        "        self.standard_scaler = StandardScaler()\n",
        "\n",
        "    def fit(self, X, y=None):\n",
        "        # Encode categorical variables\n",
        "        for i in range(X.shape[1]):\n",
        "            if isinstance(X.iloc[:, i][0], str):\n",
        "                labelencoder = LabelEncoder()\n",
        "                X.iloc[:, i] = labelencoder.fit_transform(X.iloc[:, i])\n",
        "                self.label_encoders.append(labelencoder)\n",
        "\n",
        "        # Scale the numeric variables\n",
        "        self.standard_scaler.fit(X.loc[:, ~X.dtypes.eq('object')])\n",
        "\n",
        "        return self\n",
        "\n",
        "    def transform(self, X, y=None):\n",
        "        # Encode categorical variables\n",
        "        for i in range(X.shape[1]):\n",
        "            if isinstance(X.iloc[:, i][0], str):\n",
        "                X.iloc[:, i] = self.label_encoders[i].transform(X.iloc[:, i])\n",
        "\n",
        "        # Scale the numeric variables\n",
        "        X.loc[:, ~X.dtypes.eq('object')] = self.standard_scaler.transform(X.loc[:, ~X.dtypes.eq('object')])\n",
        "\n",
        "        return X\n"
      ],
      "metadata": {
        "id": "VR9HNZ5u3gin"
      },
      "execution_count": 91,
      "outputs": []
    },
    {
      "cell_type": "code",
      "source": [
        "class ANN:\n",
        "    def __init__(self, mode=1, architecture=None, activations=None):\n",
        "        self.mode = mode\n",
        "        self.layers = architecture\n",
        "        self.activations = activations\n",
        "        self.weights = []\n",
        "        self.biases = []\n",
        "    def init_weights(self, X):\n",
        "        if self.mode == 1:\n",
        "            self.weights.append(np.random.randn(X.shape[1], self.layers[0]))\n",
        "            self.biases.append(np.zeros((1, self.layers[0])))\n",
        "            for i in range(1, len(self.layers)):\n",
        "                self.weights.append(np.random.randn(self.layers[i - 1], self.layers[i]))\n",
        "                self.biases.append(np.zeros((1, self.layers[i])))\n",
        "        elif self.mode == 2:\n",
        "            pass\n",
        "\n",
        "    def forward(self, X):\n",
        "        z = np.dot(X, self.weights[0]) + self.biases[0]\n",
        "        a = self.activations[0](z)\n",
        "        for i in range(1, len(self.layers)):\n",
        "            z = np.dot(a, self.weights[i]) + self.biases[i]\n",
        "            a = self.activations[i](z)\n",
        "        return a\n",
        "\n",
        "    def backward(self, X, y, y_hat):\n",
        "        deltas = [y_hat - y]\n",
        "        for i in range(len(self.layers) - 1, 0, -1):\n",
        "            delta = np.dot(deltas[-1], self.weights[i].T) * self.activations[i - 1](np.dot(X, self.weights[i - 1]) + self.biases[i - 1], derivative=True)\n",
        "            deltas.append(delta)\n",
        "        deltas.reverse()\n",
        "        return deltas\n",
        "\n",
        "    def update(self, deltas, X, eta):\n",
        "        self.weights[0] -= eta * np.dot(X.T, deltas[0])\n",
        "        self.biases[0] -= eta * np.sum(deltas[0], axis=0, keepdims=True)\n",
        "        for i in range(1, len(self.layers)):\n",
        "            self.weights[i] -= eta * np.dot(self.activations[i - 1](np.dot(X, self.weights[i - 1]) + self.biases[i - 1]).T, deltas[i])\n",
        "            self.biases[i] -= eta * np.sum(deltas[i], axis=0, keepdims=True)\n",
        "\n",
        "    def fit(self, X, y, eta=0.0001, epochs=5000, show_curve=False):\n",
        "        self.init_weights(X)\n",
        "        mse = []\n",
        "        for i in range(int(epochs)):\n",
        "            y_hat = self.forward(X)\n",
        "            deltas = self.backward(X, y, y_hat)\n",
        "            self.update(deltas, X, eta)\n",
        "            mse.append(np.mean((y_hat - y) ** 2))\n",
        "            if i % 1000 == 0:\n",
        "                print(f\"Epoch: {i}, MSE: {mse[-1]}\")\n",
        "        if show_curve:\n",
        "            plt.plot(mse)\n",
        "            plt.title(\"MSE\")\n",
        "            plt.xlabel(\"Epoch\")\n",
        "            plt.ylabel(\"MSE\")\n",
        "            plt.show()\n",
        "\n",
        "    def predict(self, X):\n",
        "        return self.forward(X)\n"
      ],
      "metadata": {
        "id": "HNvPO7guuK5_"
      },
      "execution_count": 92,
      "outputs": []
    },
    {
      "cell_type": "code",
      "source": [
        "class MVLogisticRegression:\n",
        "    def __init__(self, lr=0.01, num_iter=10000, fit_intercept=True, C=1):\n",
        "        self.lr = lr\n",
        "        self.num_iter = num_iter\n",
        "        self.fit_intercept = fit_intercept\n",
        "        self.C = C\n",
        "\n",
        "    def sigmoid(self, z):\n",
        "        return 1 / (1 + np.exp(-z))\n",
        "\n",
        "    def add_intercept(self, X):\n",
        "        intercept = np.ones((X.shape[0], 1))\n",
        "        return np.concatenate((intercept, X), axis=1)\n",
        "\n",
        "    def __l2_regularization(self, theta):\n",
        "        return (self.C * np.sum(theta[1:] ** 2)) / (2 * len(theta))\n",
        "\n",
        "    def fit(self, X, y):\n",
        "        if self.fit_intercept:\n",
        "            X = np.hstack((np.ones((X.shape[0], 1)), X))  # add column of ones to X\n",
        "        self.theta = np.zeros(X.shape[1])\n",
        "\n",
        "        for i in range(self.num_iter):\n",
        "            z = np.dot(X, self.theta)\n",
        "            h = self.sigmoid(z)\n",
        "            gradient = np.dot(X.T, (h - y)) / y.size\n",
        "\n",
        "            # add L2 regularization to the gradient\n",
        "            l2_reg = self.__l2_regularization(self.theta)\n",
        "            gradient[1:] += l2_reg\n",
        "\n",
        "            # update theta using the regularized gradient\n",
        "            self.theta -= self.lr * gradient\n",
        "            \n",
        "        # add print statements for debugging\n",
        "        print(\"X shape:\", X.shape)\n",
        "        print(\"y shape:\", y.shape)\n",
        "        print(\"X dtype:\", X.dtype)\n",
        "        print(\"y dtype:\", y.dtype)\n",
        "\n",
        "    def predict_prob(self, X):\n",
        "        if self.fit_intercept:\n",
        "            X = self.add_intercept(X)\n",
        "            \n",
        "        return self.sigmoid(np.dot(X, self.theta))\n",
        "\n",
        "    # add the rest of the code as before\n",
        "\n",
        "\n",
        "        # initialize parameters\n",
        "        if self.theta is None:\n",
        "            self.theta = np.zeros(X.shape[1])\n",
        "        elif self.theta.shape[0] != X.shape[1]:\n",
        "            raise ValueError(\"Shape of theta does not match shape of X\")\n",
        "\n",
        "        # check shape of y\n",
        "        if y.shape != (X.shape[0],):\n",
        "            y = y.reshape(-1)\n",
        "\n",
        "        # add intercept to X if fit_intercept is True\n",
        "        if self.fit_intercept:\n",
        "            X = self.add_intercept(X)\n",
        "\n",
        "        # perform gradient descent\n",
        "        for i in range(self.num_iter):\n",
        "            Z = np.dot(X, self.theta)\n",
        "            h = self.sigmoid(Z)\n",
        "            gradient = np.dot(X.T, (h - y)) / y.size\n",
        "            self.theta -= self.lr * gradient\n",
        "\n",
        "    def predict(self, X, threshold=0.6):\n",
        "        if self.fit_intercept:\n",
        "            X = np.hstack((np.ones((X.shape[0], 1)), X))  # add column of ones to X\n",
        "        probabilities = self.sigmoid(np.dot(X, self.theta))\n",
        "        return (probabilities >= threshold).astype(int)\n",
        "\n",
        "    #def predict(self, X, threshold=0.5):\n",
        "        #return (self.predict_prob(X) >= threshold).astype(int)"
      ],
      "metadata": {
        "id": "cCqrF3SIc4IL"
      },
      "execution_count": 93,
      "outputs": []
    },
    {
      "cell_type": "code",
      "source": [
        "import numpy as np\n",
        "\n",
        "# Define X\n",
        "X = np.array([    ['France', 'Male', 44],\n",
        "    ['Spain', 'Female', 27],\n",
        "    ['Germany', 'Male', 30],\n",
        "    ['Spain', 'Male', 38],\n",
        "    ['Germany', 'Female', 40],\n",
        "    ['France', 'Female', 35],\n",
        "])\n",
        "\n",
        "# Transform categorical variables using LabelEncoder\n",
        "labelencoder_X_1 = LabelEncoder()\n",
        "X[:, 0] = labelencoder_X_1.fit_transform(X[:, 0])\n",
        "labelencoder_X_2 = LabelEncoder()\n",
        "X[:, 1] = labelencoder_X_2.fit_transform(X[:, 1])\n"
      ],
      "metadata": {
        "id": "Tg4mUl1ao9k5"
      },
      "execution_count": 94,
      "outputs": []
    },
    {
      "cell_type": "code",
      "source": [
        "def make_classification(n_samples=100, n_features=20, n_informative=2,\n",
        "                         n_redundant=2, n_classes=2, weights=None,\n",
        "                         random_state=None):\n",
        "    \"\"\"\n",
        "    Generate a random classification dataset with specified properties.\n",
        "\n",
        "    Parameters:\n",
        "    -----------\n",
        "    n_samples : int, optional (default=100)\n",
        "        The number of samples in the dataset.\n",
        "    n_features : int, optional (default=20)\n",
        "        The total number of features in the dataset.\n",
        "    n_informative : int, optional (default=2)\n",
        "        The number of informative features in the dataset.\n",
        "    n_redundant : int, optional (default=2)\n",
        "        The number of redundant features in the dataset.\n",
        "    n_classes : int, optional (default=2)\n",
        "        The number of classes in the dataset.\n",
        "    weights : array-like, optional (default=None)\n",
        "        The relative weights of the classes.\n",
        "    random_state : int or None, optional (default=None)\n",
        "        Seed for the random number generator.\n",
        "\n",
        "    Returns:\n",
        "    --------\n",
        "    X : array of shape (n_samples, n_features)\n",
        "        The input samples.\n",
        "    y : array of shape (n_samples,)\n",
        "        The true labels for the input samples.\n",
        "    \"\"\"\n",
        "\n",
        "    # Error checking\n",
        "    if n_informative + n_redundant >= n_features:\n",
        "        raise ValueError(\"The sum of n_informative and n_redundant must be smaller than n_features\")\n",
        "    if weights is not None:\n",
        "        if len(weights) != n_classes:\n",
        "            raise ValueError(\"Number of classes must be equal to the length of weights\")\n",
        "\n",
        "    # Set random seed if specified\n",
        "    if random_state is not None:\n",
        "        np.random.seed(random_state)\n",
        "\n",
        "    # Generate random coefficients for the linear combination of features\n",
        "    coef = np.random.randn(n_features, 1)\n",
        "\n",
        "    # Generate random mean and covariance matrix for each class\n",
        "    means = []\n",
        "    covs = []\n",
        "    for i in range(n_classes):\n",
        "        mean = np.random.randn(n_informative)\n",
        "        if len(mean) != n_informative:\n",
        "            raise ValueError(\"Length of mean vector must be equal to n_informative\")\n",
        "        means.append(mean)\n",
        "        cov = np.eye(n_informative + n_redundant)\n",
        "        cov[n_informative:, n_informative:] *= 0.1\n",
        "        covs.append(cov)\n",
        "\n",
        "\n",
        "    # Generate random samples for each class\n",
        "    X = []\n",
        "    y = []\n",
        "    for i in range(n_samples):\n",
        "        label = np.random.choice(n_classes, p=weights)\n",
        "        x = np.zeros(n_features)\n",
        "        # Fixed the error here: the length of means[label] was incorrect\n",
        "        x[:n_informative] = np.random.multivariate_normal(means[label], covs[label])\n",
        "        x[n_informative:] = np.random.randn(n_redundant)\n",
        "        X.append(x)\n",
        "        y.append(label)\n",
        "\n",
        "    return np.array(X), np.array(y)\n"
      ],
      "metadata": {
        "id": "9XlloiIA_znm"
      },
      "execution_count": 95,
      "outputs": []
    },
    {
      "cell_type": "code",
      "source": [
        "import numpy as np\n",
        "\n",
        "def classification_report(y_true, y_pred, target_names=None):\n",
        "    \"\"\"\n",
        "    Build a text report showing the main classification metrics.\n",
        "\n",
        "    Parameters:\n",
        "    -----------\n",
        "    y_true : array-like of shape (n_samples,)\n",
        "        Ground truth (correct) target values.\n",
        "    y_pred : array-like of shape (n_samples,)\n",
        "        Estimated targets as returned by a classifier.\n",
        "    target_names : array-like of shape (n_classes,), optional (default=None)\n",
        "        List of label names to include in the report.\n",
        "\n",
        "    Returns:\n",
        "    --------\n",
        "    report : str\n",
        "        Text summary of the precision, recall, F1 score, and support for each class.\n",
        "    \"\"\"\n",
        "\n",
        "    # Compute confusion matrix\n",
        "    cm = confusion_matrix(y_true, y_pred)\n",
        "\n",
        "    # Compute precision, recall, and F1 score\n",
        "    tn, fp, fn, tp = cm.ravel()\n",
        "    precision = tp / (tp + fp)\n",
        "    recall = tp / (tp + fn)\n",
        "    f1_score = 2 * (precision * recall) / (precision + recall)\n",
        "\n",
        "    # Compute support for each class\n",
        "    support = np.sum(cm, axis=1)\n",
        "\n",
        "    # Format the report\n",
        "    if target_names is None:\n",
        "        target_names = ['Class {}'.format(i) for i in range(cm.shape[0])]\n",
        "    report = '              precision    recall  f1-score   support\\n\\n'\n",
        "    for i, target_name in enumerate(target_names):\n",
        "        report += '{:<14}{:8.4f}{:9.4f}{:9.4f}{:10d}\\n'.format(target_name, precision[i], recall[i], f1_score[i], support[i])\n",
        "    report += '\\n'\n",
        "\n",
        "    # Compute and add averages\n",
        "    avg_precision = np.mean(precision)\n",
        "    avg_recall = np.mean(recall)\n",
        "    avg_f1_score = np.mean(f1_score)\n",
        "    avg_support = np.mean(support)\n",
        "    report += '{:<14}{:8.4f}{:9.4f}{:9.4f}{:10.0f}\\n'.format('micro avg', avg_precision, avg_recall, avg_f1_score, avg_support)\n",
        "    report += '{:<14}{:8.4f}{:9.4f}{:9.4f}{:10.0f}\\n'.format('macro avg', avg_precision, avg_recall, avg_f1_score, avg_support)\n",
        "\n",
        "    return report\n"
      ],
      "metadata": {
        "id": "_alBooBFWAJR"
      },
      "execution_count": 96,
      "outputs": []
    },
    {
      "cell_type": "code",
      "source": [
        "from sklearn.metrics import accuracy_score"
      ],
      "metadata": {
        "id": "XbzUSI-JRAFb"
      },
      "execution_count": 97,
      "outputs": []
    },
    {
      "cell_type": "code",
      "source": [
        "def main():\n",
        "    # Load the churn modelling dataset\n",
        "    data = pd.read_csv('/content/Churn_Modelling.csv')\n",
        "\n",
        "    # Split the data into X and y\n",
        "    X = data.iloc[:, 3:-1].values\n",
        "    y = data.iloc[:, -1].values\n",
        "\n",
        "    # Encode categorical variables\n",
        "    labelencoder_X_1 = LabelEncoder()\n",
        "    X[:, 1] = labelencoder_X_1.fit_transform(X[:, 1])\n",
        "    labelencoder_X_2 = LabelEncoder()\n",
        "    X[:, 2] = labelencoder_X_2.fit_transform(X[:, 2])\n",
        "\n",
        "    # Convert the data to numeric format\n",
        "    X = X.astype(float)\n",
        "    y = y.astype(float)\n",
        "\n",
        "    # Add column of ones to X before scaling\n",
        "    X = np.hstack((np.ones((X.shape[0], 1)), X))\n",
        "\n",
        "    # Split the data into training and test sets\n",
        "    tts = train_test_split(test_size=0.2, random_state=0)\n",
        "    X_train, X_test, y_train, y_test = tts(X, y)\n",
        "\n",
        "    # Scale the data\n",
        "    sc = StandardScaler()\n",
        "    X_train = sc.fit_transform(X_train)\n",
        "    X_test = sc.transform(X_test)\n",
        "\n",
        "    # Train the model\n",
        "    model = MVLogisticRegression(lr=0.000001, num_iter=8000, fit_intercept=True) #                               this one works \n",
        "    model.fit(X_train, y_train)\n",
        "    y_pred = model.predict(X_test, threshold=0.9)\n",
        "\n",
        "    # Evaluate the model\n",
        "    y_pred = model.predict(X_test)\n",
        "    print(\"Accuracy:\", accuracy_score(y_test, y_pred))\n",
        "    print(\"Confusion matrix:\\n\", confusion_matrix(y_test, y_pred))\n",
        "    \n",
        "    # Generate some sample data\n",
        "    #X, y = make_classification(n_samples=1000, n_features=10, n_classes=2, random_state=42)\n",
        "\n",
        "    # Plot the residuals\n",
        "    residuals = y_test - y_pred\n",
        "    plt.plot(residuals)\n",
        "    plt.xlabel(\"Observation\")\n",
        "    plt.ylabel(\"Residual\")\n",
        "    plt.show()\n",
        "\n",
        "    # Generate some sample data\n",
        "    #X, y = make_classification(n_samples=1000, n_features=10, n_classes=2, random_state=42)\n",
        "\n",
        "    # Split the data into training and testing sets\n",
        "    X_train, X_test, y_train, y_test = tts(X, y)\n",
        "\n",
        "    # Get the predicted values\n",
        "    y_pred = model.predict(X_test)\n",
        "\n",
        "    # Plot the predicted values against the true values\n",
        "    plt.scatter(y_test, y_pred)\n",
        "    plt.xlabel(\"True Values\")\n",
        "    plt.ylabel(\"Predicted Values\")\n",
        "    plt.show()\n",
        "\n",
        "    # Display churn rate for different columns\n",
        "    columns = [\"Geography\", \"Gender\", \"CreditScore\", \"Age\", \"Tenure\", \"Balance\", \"NumOfProducts\", \"HasCrCard\", \"IsActiveMember\", \"EstimatedSalary\"]\n",
        "    for col in columns:\n",
        "        churn_rate = data.groupby(col)[\"Exited\"].mean()\n",
        "        plt.figure(figsize=(6,4))\n",
        "        plt.bar(churn_rate.index, churn_rate.values)\n",
        "        plt.title(\"Churn rate vs \" + col)\n",
        "        plt.xlabel(col)\n",
        "        plt.ylabel(\"Churn rate\")\n",
        "        plt.show()\n",
        "\n",
        "if __name__ == \"__main__\":\n",
        "    main()\n"
      ],
      "metadata": {
        "colab": {
          "base_uri": "https://localhost:8080/",
          "height": 1000
        },
        "id": "RtSdLqd3dk0f",
        "outputId": "b711b942-1303-4243-d36c-e2a891e2cc81"
      },
      "execution_count": 99,
      "outputs": [
        {
          "output_type": "stream",
          "name": "stderr",
          "text": [
            "<ipython-input-88-dbae2bf42e2b>:14: RuntimeWarning: invalid value encountered in floor_divide\n",
            "  X_scaled = (X - self.mean) // self.std\n"
          ]
        },
        {
          "output_type": "stream",
          "name": "stdout",
          "text": [
            "X shape: (8000, 12)\n",
            "y shape: (8000,)\n",
            "X dtype: float64\n",
            "y dtype: float64\n",
            "Accuracy: 0.7975\n",
            "Confusion matrix:\n",
            " [[1595    0]\n",
            " [ 405    0]]\n"
          ]
        },
        {
          "output_type": "display_data",
          "data": {
            "text/plain": [
              "<Figure size 432x288 with 1 Axes>"
            ],
            "image/png": "[encoded data removed]"
          },
          "metadata": {
            "needs_background": "light"
          }
        },
        {
          "output_type": "display_data",
          "data": {
            "text/plain": [
              "<Figure size 432x288 with 1 Axes>"
            ],
            "image/png": "[encoded data removed]"
          },
          "metadata": {
            "needs_background": "light"
          }
        },
        {
          "output_type": "display_data",
          "data": {
            "text/plain": [
              "<Figure size 432x288 with 1 Axes>"
            ],
            "image/png": "[encoded data removed]"
          },
          "metadata": {
            "needs_background": "light"
          }
        },
        {
          "output_type": "display_data",
          "data": {
            "text/plain": [
              "<Figure size 432x288 with 1 Axes>"
            ],
            "image/png": "[encoded data removed]"
          },
          "metadata": {
            "needs_background": "light"
          }
        },
        {
          "output_type": "display_data",
          "data": {
            "text/plain": [
              "<Figure size 432x288 with 1 Axes>"
            ],
            "image/png": "[encoded data removed]"
          },
          "metadata": {
            "needs_background": "light"
          }
        },
        {
          "output_type": "display_data",
          "data": {
            "text/plain": [
              "<Figure size 432x288 with 1 Axes>"
            ],
            "image/png": "[encoded data removed]"
          },
          "metadata": {
            "needs_background": "light"
          }
        },
        {
          "output_type": "display_data",
          "data": {
            "text/plain": [
              "<Figure size 432x288 with 1 Axes>"
            ],
            "image/png": "[encoded data removed]"
          },
          "metadata": {
            "needs_background": "light"
          }
        },
        {
          "output_type": "display_data",
          "data": {
            "text/plain": [
              "<Figure size 432x288 with 1 Axes>"
            ],
            "image/png": "[encoded data removed]"
          },
          "metadata": {
            "needs_background": "light"
          }
        },
        {
          "output_type": "display_data",
          "data": {
            "text/plain": [
              "<Figure size 432x288 with 1 Axes>"
            ],
            "image/png": "[encoded data removed]"
          },
          "metadata": {
            "needs_background": "light"
          }
        },
        {
          "output_type": "display_data",
          "data": {
            "text/plain": [
              "<Figure size 432x288 with 1 Axes>"
            ],
            "image/png": "[encoded data removed]"
          },
          "metadata": {
            "needs_background": "light"
          }
        },
        {
          "output_type": "display_data",
          "data": {
            "text/plain": [
              "<Figure size 432x288 with 1 Axes>"
            ],
            "image/png": "[encoded data removed]"
          },
          "metadata": {
            "needs_background": "light"
          }
        },
        {
          "output_type": "display_data",
          "data": {
            "text/plain": [
              "<Figure size 432x288 with 1 Axes>"
            ],
            "image/png": "[encoded data removed]"
          },
          "metadata": {
            "needs_background": "light"
          }
        }
      ]
    }
  ]
}